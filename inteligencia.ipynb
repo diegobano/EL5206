{
 "cells": [
  {
   "cell_type": "code",
   "execution_count": 12,
   "metadata": {},
   "outputs": [],
   "source": [
    "import matplotlib.pyplot as plt\n",
    "import numpy as np\n",
    "import pandas as pnd\n",
    "from sklearn import tree\n",
    "from sklearn.model_selection import cross_val_score\n",
    "from sklearn.cluster import KMeans\n",
    "from sklearn.feature_selection import mutual_info_classif\n",
    "from scipy.cluster.hierarchy import dendrogram, linkage, fcluster\n",
    "from scipy.spatial.distance import cdist\n",
    "from sklearn.manifold import TSNE\n",
    "from sklearn.preprocessing import StandardScaler\n",
    "import pydotplus\n",
    "from sklearn.ensemble import RandomForestClassifier, RandomForestRegressor\n",
    "from sklearn.dummy import DummyClassifier, DummyRegressor"
   ]
  },
  {
   "cell_type": "code",
   "execution_count": 2,
   "metadata": {},
   "outputs": [],
   "source": [
    "path = \"Datos/\"\n",
    "\n",
    "clientes = pnd.read_excel(path + \"CREDITRISK_RAW.xlsx\")\n"
   ]
  },
  {
   "cell_type": "code",
   "execution_count": 7,
   "metadata": {},
   "outputs": [
    {
     "name": "stdout",
     "output_type": "stream",
     "text": [
      "Atributo: ID Tipo: int64\n",
      "Atributo: GENERO Tipo: object\n",
      "Atributo: RENTA Tipo: float64\n",
      "Atributo: EDAD Tipo: float64\n",
      "Atributo: NIV_EDUC Tipo: object\n",
      "Atributo: E_CIVIL Tipo: object\n",
      "Atributo: COD_OFI Tipo: int64\n",
      "Atributo: COD_COM Tipo: object\n",
      "Atributo: CIUDAD Tipo: object\n",
      "Atributo: Crédito_1 Tipo: int64\n",
      "Atributo: Crédito_2 Tipo: int64\n",
      "Atributo: Crédito_3 Tipo: float64\n",
      "Atributo: Crédito_4 Tipo: int64\n",
      "Atributo: Monto solicitado Tipo: float64\n",
      "Atributo: Días de Mora Tipo: int64\n",
      "Atributo: Monto Deuda Promedio Tipo: int64\n",
      "Atributo: Número de meses inactivo Tipo: int64\n",
      "Atributo: numero de cuotas Tipo: int64\n",
      "Atributo: Aval Tipo: object\n",
      "Atributo: PAGA Tipo: object\n"
     ]
    }
   ],
   "source": [
    "for key in clientes.keys():\n",
    "    print \"Atributo:\", key, \"Tipo:\", clientes[key].dtype"
   ]
  },
  {
   "cell_type": "code",
   "execution_count": 18,
   "metadata": {},
   "outputs": [
    {
     "data": {
      "text/plain": [
       "array([u'CONCEPCION      ', u'SANTIAGO        ', u'ARICA           ',\n",
       "       u'PUERTO MONTT    ', u'CASTRO          ', u'RANCAGUA        ',\n",
       "       u'CURACAVI        ', u'VINA DEL MAR    ', u'PALENA          ',\n",
       "       u'ANTOFAGASTA     ', u'AYSEN           ', u'TOCOPILLA       ',\n",
       "       u'COLBUN          ', u'SAN ANTONIO     ', u'IQUIQUE         ',\n",
       "       u'CHILLAN         ', u'                ', u'MELIPILLA       ',\n",
       "       u'TEMUCO          ', u'CHUQUICAMATA    ', u'PENAFLOR        ',\n",
       "       u'OSORNO          ', u'LA SERENA       ', u'PUERTO VARAS    ',\n",
       "       u'EL SALVADOR     ', u'LOS ANGELES     ', u'VALDIVIA        ',\n",
       "       u'OVALLE          ', u'LONCOCHE        ', u'RENGO           ',\n",
       "       u'PUNTA ARENAS    ', u'PANGUIPULLI     ', u'LINARES         ',\n",
       "       u'TALCA           ', u'CALAMA          ', u'SAN FELIPE      ',\n",
       "       u'VILLARRICA      ', u'QUILPUE         ', u'PETORCA         ',\n",
       "       u'QUILLOTA        ', u'TALCAHUANO      ', u'COQUIMBO        ',\n",
       "       u'SANTA MARIA     ', u'SAN CLEMENTE    ', u'VALPARAISO      ',\n",
       "       u'HIJUELAS        ', u'LOS ANDES       ', u'LA CRUZ         ',\n",
       "       u'COPIAPO         ', u'VLLA ALEMANA    ', nan, u'HUASCO          ',\n",
       "       u'STO DOMINGO     ', u'CASABLANCA      ', u'CALBUCO         ',\n",
       "       u'COYHAIQUE       ', u'MACHALI         ', u'CALDERA         ',\n",
       "       u'PENCO           ', u'VALLENAR        ', u'LLO-LLEO        ',\n",
       "       u'LOS VILOS       ', u'SAN FERNANDO    ', u'LOS LAGOS       ',\n",
       "       u'EL QUISCO       ', u'CURICO          ', u'MOLINA          ',\n",
       "       u'LA CALERA       ', u'ANCUD           ', u'TALAGANTE       ',\n",
       "       u'CON-CON         ', u'ANGOL           ', u'LLANQUIHUE      ',\n",
       "       u'DONIHUE         ', u'ROMERAL         ', u'SAN PEDRO       ',\n",
       "       u'LOS MUERMOS     ', u'PUERTO OCTAY    ', u'PARRAL          '],\n",
       "      dtype=object)"
      ]
     },
     "execution_count": 18,
     "metadata": {},
     "output_type": "execute_result"
    }
   ],
   "source": [
    "clientes['CIUDAD'].unique()"
   ]
  },
  {
   "cell_type": "code",
   "execution_count": null,
   "metadata": {},
   "outputs": [],
   "source": []
  }
 ],
 "metadata": {
  "kernelspec": {
   "display_name": "Python 2",
   "language": "python",
   "name": "python2"
  },
  "language_info": {
   "codemirror_mode": {
    "name": "ipython",
    "version": 2
   },
   "file_extension": ".py",
   "mimetype": "text/x-python",
   "name": "python",
   "nbconvert_exporter": "python",
   "pygments_lexer": "ipython2",
   "version": "2.7.14"
  }
 },
 "nbformat": 4,
 "nbformat_minor": 2
}
